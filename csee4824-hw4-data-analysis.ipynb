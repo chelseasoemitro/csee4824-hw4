{
 "cells": [
  {
   "cell_type": "code",
   "execution_count": 1,
   "id": "cd06b9f1",
   "metadata": {},
   "outputs": [],
   "source": [
    "import os\n",
    "import numpy as np\n",
    "import pandas as pd\n",
    "import matplotlib.pyplot as plt"
   ]
  },
  {
   "cell_type": "code",
   "execution_count": 2,
   "id": "1ebf405d",
   "metadata": {},
   "outputs": [],
   "source": [
    "data = []"
   ]
  },
  {
   "cell_type": "code",
   "execution_count": 3,
   "id": "d0c6d19a",
   "metadata": {},
   "outputs": [],
   "source": [
    "def parse_filename(filename):\n",
    "    # csorting_timsort_normal1000KBpartialsorting.txt\n",
    "    name, _ = os.path.splitext(filename)\n",
    "    parts = name.split(\"_\")\n",
    "    language = parts[0]  # Example: \"csorting\"\n",
    "    algorithm = parts[1]  # Example: \"timsort\"\n",
    "\n",
    "    rest = parts[2]  # normal1000KBpartialsorting\n",
    "    distribution = \"\".join([c for c in rest if not c.isdigit()]).replace(\"KB\", \"\").split(\"partialsorting\")[0]\n",
    "    size = int(\"\".join([c for c in rest if c.isdigit()]))  # Extract size as an integer\n",
    "    organization = \"partialsorting\" if \"partialsorting\" in rest else \"unsorted\" if \"unsorted\" in rest else \"fullysorted\"\n",
    "\n",
    "    return language, algorithm, distribution, size, organization"
   ]
  },
  {
   "cell_type": "code",
   "execution_count": 4,
   "id": "2eadb02a",
   "metadata": {},
   "outputs": [],
   "source": [
    "def compute_stats(file_path):\n",
    "    with open(file_path, 'r') as file:\n",
    "        numbers = [float(line.strip()) for line in file if line.strip()]\n",
    "        mean = np.mean(numbers)\n",
    "        q1 = np.percentile(numbers, 25)\n",
    "        q3 = np.percentile(numbers, 75)\n",
    "        std_dev = np.std(numbers)\n",
    "        med = np.median(numbers)\n",
    "        return mean, q1, q3, std_dev, med"
   ]
  },
  {
   "cell_type": "code",
   "execution_count": 5,
   "id": "03825dc7",
   "metadata": {},
   "outputs": [],
   "source": [
    "folder_path = \"/Users/aliciayang/Python Scripts/timing_measurements\""
   ]
  },
  {
   "cell_type": "code",
   "execution_count": 6,
   "id": "10662c4e",
   "metadata": {},
   "outputs": [],
   "source": [
    "for filename in os.listdir(folder_path):\n",
    "    if filename.endswith(\".txt\"):\n",
    "        file_path = os.path.join(folder_path, filename)\n",
    "        \n",
    "        language, algorithm, distribution, size, organization = parse_filename(filename)\n",
    "        (mean, q1, q3, std_dev, med) = compute_stats(file_path)\n",
    "        \n",
    "        data.append([language, algorithm, distribution, size, organization, mean, q1, q3, std_dev, med])"
   ]
  },
  {
   "cell_type": "code",
   "execution_count": 7,
   "id": "97d8341d",
   "metadata": {},
   "outputs": [
    {
     "name": "stdout",
     "output_type": "stream",
     "text": [
      "Algorithm  DataSize\n",
      "quicksort  1           1.545249e+07\n",
      "           10          8.428816e+08\n",
      "           100         7.681731e+10\n",
      "           1000        2.631127e+08\n",
      "radixsort  1           1.380716e+08\n",
      "           10          1.382152e+09\n",
      "           100         1.433399e+10\n",
      "           1000        1.990187e+08\n",
      "timsort    1           1.637096e+05\n",
      "           10          1.998786e+06\n",
      "           100         2.505245e+07\n",
      "           1000        2.730797e+08\n",
      "Name: Median, dtype: float64\n"
     ]
    }
   ],
   "source": [
    "columns = [\"Language\", \"Algorithm\", \"Distribution\", \"DataSize\", \"Organization\", \"Mean\", \"Q1\", \"Q3\", \"SD\", \"Median\"]\n",
    "df = pd.DataFrame(data, columns=columns)\n",
    "\n",
    "# df.to_csv(\"medians.csv\", index=False)\n",
    "\n",
    "print(df.groupby([\"Algorithm\", \"DataSize\"])[\"Median\"].mean())"
   ]
  },
  {
   "cell_type": "code",
   "execution_count": 8,
   "id": "e560ff70",
   "metadata": {},
   "outputs": [
    {
     "data": {
      "text/html": [
       "<div>\n",
       "<style scoped>\n",
       "    .dataframe tbody tr th:only-of-type {\n",
       "        vertical-align: middle;\n",
       "    }\n",
       "\n",
       "    .dataframe tbody tr th {\n",
       "        vertical-align: top;\n",
       "    }\n",
       "\n",
       "    .dataframe thead th {\n",
       "        text-align: right;\n",
       "    }\n",
       "</style>\n",
       "<table border=\"1\" class=\"dataframe\">\n",
       "  <thead>\n",
       "    <tr style=\"text-align: right;\">\n",
       "      <th></th>\n",
       "      <th>Language</th>\n",
       "      <th>Algorithm</th>\n",
       "      <th>Distribution</th>\n",
       "      <th>DataSize</th>\n",
       "      <th>Organization</th>\n",
       "      <th>Mean</th>\n",
       "      <th>Q1</th>\n",
       "      <th>Q3</th>\n",
       "      <th>SD</th>\n",
       "      <th>Median</th>\n",
       "    </tr>\n",
       "  </thead>\n",
       "  <tbody>\n",
       "    <tr>\n",
       "      <th>0</th>\n",
       "      <td>cppsorting</td>\n",
       "      <td>quicksort</td>\n",
       "      <td>lognormalnosorting</td>\n",
       "      <td>10</td>\n",
       "      <td>fullysorted</td>\n",
       "      <td>1.603721e+06</td>\n",
       "      <td>1.573045e+06</td>\n",
       "      <td>1.608222e+06</td>\n",
       "      <td>6.154100e+04</td>\n",
       "      <td>1585199.5</td>\n",
       "    </tr>\n",
       "    <tr>\n",
       "      <th>1</th>\n",
       "      <td>csorting</td>\n",
       "      <td>timsort</td>\n",
       "      <td>uniform</td>\n",
       "      <td>1</td>\n",
       "      <td>partialsorting</td>\n",
       "      <td>1.752098e+05</td>\n",
       "      <td>1.676032e+05</td>\n",
       "      <td>1.785502e+05</td>\n",
       "      <td>1.595575e+04</td>\n",
       "      <td>173598.0</td>\n",
       "    </tr>\n",
       "    <tr>\n",
       "      <th>2</th>\n",
       "      <td>csorting</td>\n",
       "      <td>radixsort</td>\n",
       "      <td>lognormalfullsorting</td>\n",
       "      <td>1000</td>\n",
       "      <td>fullysorted</td>\n",
       "      <td>1.960897e+08</td>\n",
       "      <td>1.953589e+08</td>\n",
       "      <td>1.966204e+08</td>\n",
       "      <td>1.965156e+06</td>\n",
       "      <td>195904781.0</td>\n",
       "    </tr>\n",
       "    <tr>\n",
       "      <th>3</th>\n",
       "      <td>python3pythonsortingpy</td>\n",
       "      <td>timsort</td>\n",
       "      <td>uniformnosorting</td>\n",
       "      <td>100</td>\n",
       "      <td>fullysorted</td>\n",
       "      <td>5.997885e+07</td>\n",
       "      <td>5.968157e+07</td>\n",
       "      <td>6.004581e+07</td>\n",
       "      <td>4.612765e+05</td>\n",
       "      <td>59918061.0</td>\n",
       "    </tr>\n",
       "    <tr>\n",
       "      <th>4</th>\n",
       "      <td>python3pythonsortingpy</td>\n",
       "      <td>radixsort</td>\n",
       "      <td>lognormal</td>\n",
       "      <td>1</td>\n",
       "      <td>partialsorting</td>\n",
       "      <td>4.138026e+08</td>\n",
       "      <td>4.107788e+08</td>\n",
       "      <td>4.149012e+08</td>\n",
       "      <td>6.129199e+06</td>\n",
       "      <td>412056020.5</td>\n",
       "    </tr>\n",
       "  </tbody>\n",
       "</table>\n",
       "</div>"
      ],
      "text/plain": [
       "                 Language  Algorithm          Distribution  DataSize  \\\n",
       "0              cppsorting  quicksort    lognormalnosorting        10   \n",
       "1                csorting    timsort               uniform         1   \n",
       "2                csorting  radixsort  lognormalfullsorting      1000   \n",
       "3  python3pythonsortingpy    timsort      uniformnosorting       100   \n",
       "4  python3pythonsortingpy  radixsort             lognormal         1   \n",
       "\n",
       "     Organization          Mean            Q1            Q3            SD  \\\n",
       "0     fullysorted  1.603721e+06  1.573045e+06  1.608222e+06  6.154100e+04   \n",
       "1  partialsorting  1.752098e+05  1.676032e+05  1.785502e+05  1.595575e+04   \n",
       "2     fullysorted  1.960897e+08  1.953589e+08  1.966204e+08  1.965156e+06   \n",
       "3     fullysorted  5.997885e+07  5.968157e+07  6.004581e+07  4.612765e+05   \n",
       "4  partialsorting  4.138026e+08  4.107788e+08  4.149012e+08  6.129199e+06   \n",
       "\n",
       "        Median  \n",
       "0    1585199.5  \n",
       "1     173598.0  \n",
       "2  195904781.0  \n",
       "3   59918061.0  \n",
       "4  412056020.5  "
      ]
     },
     "execution_count": 8,
     "metadata": {},
     "output_type": "execute_result"
    }
   ],
   "source": [
    "df.head()"
   ]
  },
  {
   "cell_type": "code",
   "execution_count": null,
   "id": "db4d1f07",
   "metadata": {},
   "outputs": [],
   "source": []
  }
 ],
 "metadata": {
  "kernelspec": {
   "display_name": "Python 3 (ipykernel)",
   "language": "python",
   "name": "python3"
  },
  "language_info": {
   "codemirror_mode": {
    "name": "ipython",
    "version": 3
   },
   "file_extension": ".py",
   "mimetype": "text/x-python",
   "name": "python",
   "nbconvert_exporter": "python",
   "pygments_lexer": "ipython3",
   "version": "3.9.7"
  }
 },
 "nbformat": 4,
 "nbformat_minor": 5
}
